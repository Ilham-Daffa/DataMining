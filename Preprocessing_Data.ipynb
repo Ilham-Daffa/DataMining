{
  "nbformat": 4,
  "nbformat_minor": 0,
  "metadata": {
    "colab": {
      "name": "Preprocessing Data.ipynb",
      "provenance": [],
      "collapsed_sections": [],
      "authorship_tag": "ABX9TyPl+wA1morudUAjg6zHRaOC",
      "include_colab_link": true
    },
    "kernelspec": {
      "name": "python3",
      "display_name": "Python 3"
    },
    "language_info": {
      "name": "python"
    }
  },
  "cells": [
    {
      "cell_type": "markdown",
      "metadata": {
        "id": "view-in-github",
        "colab_type": "text"
      },
      "source": [
        "<a href=\"https://colab.research.google.com/github/Ilham-Daffa/DataMining/blob/main/Preprocessing_Data.ipynb\" target=\"_parent\"><img src=\"https://colab.research.google.com/assets/colab-badge.svg\" alt=\"Open In Colab\"/></a>"
      ]
    },
    {
      "cell_type": "code",
      "execution_count": 1,
      "metadata": {
        "id": "cB5vAIBzdvtu"
      },
      "outputs": [],
      "source": [
        "import numpy as np\n",
        "import matplotlib.pyplot as plt\n",
        "import pandas as pd"
      ]
    },
    {
      "cell_type": "markdown",
      "source": [
        "Numpy merupakan library python yang digunakan untuk komputasi matriks.\n",
        "Matplotlib merupakan library python untuk mengatasi data berupa grafik atau plot.\n",
        "Pandas merupakan lybrary python yang digunakan untuk mengimport data dari luar. Bisa dari CSV, excel, dll"
      ],
      "metadata": {
        "id": "NJnHpxL_ZwhM"
      }
    },
    {
      "cell_type": "code",
      "source": [
        "dataset = pd.read_csv(\"Data.csv\")\n",
        "x = dataset.iloc[:, :-1].values\n",
        "y = dataset.iloc[:, -1].values"
      ],
      "metadata": {
        "id": "JmRlsClxokZg"
      },
      "execution_count": 4,
      "outputs": []
    },
    {
      "cell_type": "code",
      "source": [
        "print(x)"
      ],
      "metadata": {
        "colab": {
          "base_uri": "https://localhost:8080/"
        },
        "id": "d-Q5OO9qpdlY",
        "outputId": "cbe7bbcd-7dea-4292-8f1a-c84539b6a035"
      },
      "execution_count": 5,
      "outputs": [
        {
          "output_type": "stream",
          "name": "stdout",
          "text": [
            "[['Jaket' 12.0 150000.0]\n",
            " ['Mukena' 11.0 200000.0]\n",
            " ['Jeans' 14.0 120000.0]\n",
            " ['Koko' 11.0 60000.0]\n",
            " ['Kaos' 15.0 40000.0]\n",
            " ['Batik' 13.0 80000.0]\n",
            " ['Piyama' nan 70000.0]\n",
            " ['Sweater' 12.0 nan]\n",
            " ['Jas' 10.0 250000.0]\n",
            " ['Kemeja' 11.0 100000.0]]\n"
          ]
        }
      ]
    },
    {
      "cell_type": "code",
      "source": [
        "print(y)"
      ],
      "metadata": {
        "colab": {
          "base_uri": "https://localhost:8080/"
        },
        "id": "jb4oYRWFq6h2",
        "outputId": "fb69276d-c507-41a8-e57e-2a6c8502c164"
      },
      "execution_count": 7,
      "outputs": [
        {
          "output_type": "stream",
          "name": "stdout",
          "text": [
            "['Ya' 'Ya' 'Ya' 'Tidak' 'Ya' 'Ya' 'Tidak' 'Ya' 'Tidak' 'Ya']\n"
          ]
        }
      ]
    },
    {
      "cell_type": "code",
      "source": [
        "from sklearn.impute import SimpleImputer\n",
        "imputer = SimpleImputer(missing_values=np.nan, strategy = \"mean\")\n",
        "imputer.fit(x[:, 1:3])\n",
        "(x[:, 1:3]) = imputer.transform(x[:, 1:3])"
      ],
      "metadata": {
        "id": "XX6M1lxUrOHt"
      },
      "execution_count": 11,
      "outputs": []
    },
    {
      "cell_type": "code",
      "source": [
        "print(x)"
      ],
      "metadata": {
        "colab": {
          "base_uri": "https://localhost:8080/"
        },
        "id": "VmWpBu7yybgS",
        "outputId": "bffe837c-31b3-45a0-cce0-0d22d3a42ab8"
      },
      "execution_count": 12,
      "outputs": [
        {
          "output_type": "stream",
          "name": "stdout",
          "text": [
            "[['Jaket' 12.0 150000.0]\n",
            " ['Mukena' 11.0 200000.0]\n",
            " ['Jeans' 14.0 120000.0]\n",
            " ['Koko' 11.0 60000.0]\n",
            " ['Kaos' 15.0 40000.0]\n",
            " ['Batik' 13.0 80000.0]\n",
            " ['Piyama' 12.11111111111111 70000.0]\n",
            " ['Sweater' 12.0 118888.88888888889]\n",
            " ['Jas' 10.0 250000.0]\n",
            " ['Kemeja' 11.0 100000.0]]\n"
          ]
        }
      ]
    },
    {
      "cell_type": "code",
      "source": [
        "from sklearn.compose import ColumnTransformer\n",
        "from sklearn.preprocessing import OneHotEncoder\n",
        "ct = ColumnTransformer(transformers=[(\"encoder\", OneHotEncoder(), [0])], remainder = \"passthrough\")\n",
        "x = np.array(ct.fit_transform(x))"
      ],
      "metadata": {
        "id": "Dfp8GQPyMBv8"
      },
      "execution_count": 48,
      "outputs": []
    },
    {
      "cell_type": "code",
      "source": [
        "print(x)"
      ],
      "metadata": {
        "colab": {
          "base_uri": "https://localhost:8080/"
        },
        "id": "jrxpRl-XNWcV",
        "outputId": "f5eb5b60-f7a3-47be-9810-7dc9c0e7e360"
      },
      "execution_count": 49,
      "outputs": [
        {
          "output_type": "stream",
          "name": "stdout",
          "text": [
            "  (0, 1)\t1.0\n",
            "  (0, 10)\t12.0\n",
            "  (0, 11)\t150000.0\n",
            "  (1, 7)\t1.0\n",
            "  (1, 10)\t11.0\n",
            "  (1, 11)\t200000.0\n",
            "  (2, 3)\t1.0\n",
            "  (2, 10)\t14.0\n",
            "  (2, 11)\t120000.0\n",
            "  (3, 6)\t1.0\n",
            "  (3, 10)\t11.0\n",
            "  (3, 11)\t60000.0\n",
            "  (4, 4)\t1.0\n",
            "  (4, 10)\t15.0\n",
            "  (4, 11)\t40000.0\n",
            "  (5, 0)\t1.0\n",
            "  (5, 10)\t13.0\n",
            "  (5, 11)\t80000.0\n",
            "  (6, 8)\t1.0\n",
            "  (6, 10)\t12.11111111111111\n",
            "  (6, 11)\t70000.0\n",
            "  (7, 9)\t1.0\n",
            "  (7, 10)\t12.0\n",
            "  (7, 11)\t118888.88888888889\n",
            "  (8, 2)\t1.0\n",
            "  (8, 10)\t10.0\n",
            "  (8, 11)\t250000.0\n",
            "  (9, 5)\t1.0\n",
            "  (9, 10)\t11.0\n",
            "  (9, 11)\t100000.0\n"
          ]
        }
      ]
    },
    {
      "cell_type": "code",
      "source": [
        "from sklearn.preprocessing import LabelEncoder\n",
        "le = LabelEncoder()\n",
        "y = le.fit_transform(y)"
      ],
      "metadata": {
        "id": "TPWatTgaPydE"
      },
      "execution_count": 52,
      "outputs": []
    },
    {
      "cell_type": "code",
      "source": [
        "print(y)"
      ],
      "metadata": {
        "colab": {
          "base_uri": "https://localhost:8080/"
        },
        "id": "qtMn9bH5QOGZ",
        "outputId": "a199fa9b-c123-48d6-bd05-ecad87d7920e"
      },
      "execution_count": 53,
      "outputs": [
        {
          "output_type": "stream",
          "name": "stdout",
          "text": [
            "[1 1 1 0 1 1 0 1 0 1]\n"
          ]
        }
      ]
    },
    {
      "cell_type": "code",
      "source": [
        "from sklearn.model_selection import train_test_split\n",
        "x_train, x_test, y_train, y_test = train_test_split(x, y, test_size = 0.2, random_state = 1)"
      ],
      "metadata": {
        "id": "5hh5ED48Qls_"
      },
      "execution_count": null,
      "outputs": []
    },
    {
      "cell_type": "code",
      "source": [
        "print(x_train)"
      ],
      "metadata": {
        "colab": {
          "base_uri": "https://localhost:8080/"
        },
        "id": "CrP6r0qRRLdS",
        "outputId": "afee89f1-3445-40c6-866e-8cc8727fa301"
      },
      "execution_count": 65,
      "outputs": [
        {
          "output_type": "stream",
          "name": "stdout",
          "text": [
            "[['Piyama' 12.11111111111111 70000.0]\n",
            " ['Kaos' 15.0 40000.0]\n",
            " ['Jaket' 12.0 150000.0]\n",
            " ['Koko' 11.0 60000.0]\n",
            " ['Mukena' 11.0 200000.0]\n",
            " ['Sweater' 12.0 118888.88888888889]\n",
            " ['Jas' 10.0 250000.0]\n",
            " ['Batik' 13.0 80000.0]]\n"
          ]
        }
      ]
    },
    {
      "cell_type": "code",
      "source": [
        "print(x_test)"
      ],
      "metadata": {
        "colab": {
          "base_uri": "https://localhost:8080/"
        },
        "id": "De-shRZ8R9r7",
        "outputId": "8e9725d4-2564-4024-fee5-60672e83c985"
      },
      "execution_count": 58,
      "outputs": [
        {
          "output_type": "stream",
          "name": "stdout",
          "text": [
            "[['Jeans' 14.0 120000.0]\n",
            " ['Kemeja' 11.0 100000.0]]\n"
          ]
        }
      ]
    },
    {
      "cell_type": "code",
      "source": [
        "print(y_train)"
      ],
      "metadata": {
        "colab": {
          "base_uri": "https://localhost:8080/"
        },
        "id": "jC7YgnlISDVK",
        "outputId": "101b2b09-e1a7-490a-8d6b-767e3ef0e3d8"
      },
      "execution_count": 59,
      "outputs": [
        {
          "output_type": "stream",
          "name": "stdout",
          "text": [
            "[0 1 1 0 1 1 0 1]\n"
          ]
        }
      ]
    },
    {
      "cell_type": "code",
      "source": [
        "print(y_test)"
      ],
      "metadata": {
        "colab": {
          "base_uri": "https://localhost:8080/"
        },
        "id": "SuqmZbj5SHfj",
        "outputId": "c8418a50-daaa-4493-b928-44dabbd2b9a8"
      },
      "execution_count": 39,
      "outputs": [
        {
          "output_type": "stream",
          "name": "stdout",
          "text": [
            "[1 1]\n"
          ]
        }
      ]
    },
    {
      "cell_type": "code",
      "source": [
        "from sklearn.preprocessing import StandardScaler\n",
        "sc = StandardScaler()\n",
        "x_train[:, 3:] = sc.fit_transform(x_train[:, 3:])\n",
        "x_test[:, 3:] = sc.transform(x_test[:, 3:])"
      ],
      "metadata": {
        "id": "YD5pVfgiSLaa"
      },
      "execution_count": null,
      "outputs": []
    },
    {
      "cell_type": "code",
      "source": [
        "print(x_train)"
      ],
      "metadata": {
        "colab": {
          "base_uri": "https://localhost:8080/"
        },
        "id": "jTWEO8fVUZt4",
        "outputId": "d1984172-2cf7-4a35-b398-87a597867137"
      },
      "execution_count": 63,
      "outputs": [
        {
          "output_type": "stream",
          "name": "stdout",
          "text": [
            "[['Piyama' 12.11111111111111 70000.0]\n",
            " ['Kaos' 15.0 40000.0]\n",
            " ['Jaket' 12.0 150000.0]\n",
            " ['Koko' 11.0 60000.0]\n",
            " ['Mukena' 11.0 200000.0]\n",
            " ['Sweater' 12.0 118888.88888888889]\n",
            " ['Jas' 10.0 250000.0]\n",
            " ['Batik' 13.0 80000.0]]\n"
          ]
        }
      ]
    },
    {
      "cell_type": "code",
      "source": [
        "print(x_test)"
      ],
      "metadata": {
        "colab": {
          "base_uri": "https://localhost:8080/"
        },
        "id": "BaXH864mUep3",
        "outputId": "c18c9740-04ba-41ab-f351-a604e3ec2b8a"
      },
      "execution_count": 46,
      "outputs": [
        {
          "output_type": "stream",
          "name": "stdout",
          "text": [
            "[['Jeans' 14.0 120000.0]\n",
            " ['Kemeja' 11.0 100000.0]]\n"
          ]
        }
      ]
    }
  ]
}