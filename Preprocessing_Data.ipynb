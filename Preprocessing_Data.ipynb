{
  "nbformat": 4,
  "nbformat_minor": 0,
  "metadata": {
    "colab": {
      "name": "Preprocessing Data.ipynb",
      "provenance": [],
      "collapsed_sections": [],
      "authorship_tag": "ABX9TyOhGctFOLQtc3wLo9Wke9Be",
      "include_colab_link": true
    },
    "kernelspec": {
      "name": "python3",
      "display_name": "Python 3"
    },
    "language_info": {
      "name": "python"
    }
  },
  "cells": [
    {
      "cell_type": "markdown",
      "metadata": {
        "id": "view-in-github",
        "colab_type": "text"
      },
      "source": [
        "<a href=\"https://colab.research.google.com/github/Ilham-Daffa/DataMining/blob/main/Preprocessing_Data.ipynb\" target=\"_parent\"><img src=\"https://colab.research.google.com/assets/colab-badge.svg\" alt=\"Open In Colab\"/></a>"
      ]
    },
    {
      "cell_type": "code",
      "execution_count": 1,
      "metadata": {
        "id": "cB5vAIBzdvtu"
      },
      "outputs": [],
      "source": [
        "import numpy as np\n",
        "import matplotlib.pyplot as plt\n",
        "import pandas as pd"
      ]
    },
    {
      "cell_type": "markdown",
      "source": [
        "Numpy merupakan library python yang digunakan untuk komputasi matriks.\n",
        "Matplotlib merupakan library python untuk mengatasi data berupa grafik atau plot.\n",
        "Pandas merupakan lybrary python yang digunakan untuk mengimport data dari luar. Bisa dari CSV, excel, dll"
      ],
      "metadata": {
        "id": "NJnHpxL_ZwhM"
      }
    },
    {
      "cell_type": "code",
      "source": [
        "dataset = pd.read_csv(\"Data.csv\")\n",
        "x = dataset.iloc[:, :-1].values\n",
        "y = dataset.iloc[:, -1].values"
      ],
      "metadata": {
        "id": "JmRlsClxokZg"
      },
      "execution_count": 4,
      "outputs": []
    },
    {
      "cell_type": "code",
      "source": [
        "print(x)"
      ],
      "metadata": {
        "colab": {
          "base_uri": "https://localhost:8080/"
        },
        "id": "d-Q5OO9qpdlY",
        "outputId": "cbe7bbcd-7dea-4292-8f1a-c84539b6a035"
      },
      "execution_count": 5,
      "outputs": [
        {
          "output_type": "stream",
          "name": "stdout",
          "text": [
            "[['Jaket' 12.0 150000.0]\n",
            " ['Mukena' 11.0 200000.0]\n",
            " ['Jeans' 14.0 120000.0]\n",
            " ['Koko' 11.0 60000.0]\n",
            " ['Kaos' 15.0 40000.0]\n",
            " ['Batik' 13.0 80000.0]\n",
            " ['Piyama' nan 70000.0]\n",
            " ['Sweater' 12.0 nan]\n",
            " ['Jas' 10.0 250000.0]\n",
            " ['Kemeja' 11.0 100000.0]]\n"
          ]
        }
      ]
    },
    {
      "cell_type": "code",
      "source": [
        "print(y)"
      ],
      "metadata": {
        "colab": {
          "base_uri": "https://localhost:8080/"
        },
        "id": "jb4oYRWFq6h2",
        "outputId": "fb69276d-c507-41a8-e57e-2a6c8502c164"
      },
      "execution_count": 7,
      "outputs": [
        {
          "output_type": "stream",
          "name": "stdout",
          "text": [
            "['Ya' 'Ya' 'Ya' 'Tidak' 'Ya' 'Ya' 'Tidak' 'Ya' 'Tidak' 'Ya']\n"
          ]
        }
      ]
    },
    {
      "cell_type": "code",
      "source": [
        "from sklearn.impute import SimpleImputer\n",
        "imputer = SimpleImputer(missing_values=np.nan, strategy = \"mean\")\n",
        "imputer.fit(x[:, 1:3])\n",
        "(x[:, 1:3]) = imputer.transform(x[:, 1:3])"
      ],
      "metadata": {
        "id": "XX6M1lxUrOHt"
      },
      "execution_count": 11,
      "outputs": []
    },
    {
      "cell_type": "code",
      "source": [
        "print(x)"
      ],
      "metadata": {
        "colab": {
          "base_uri": "https://localhost:8080/"
        },
        "id": "VmWpBu7yybgS",
        "outputId": "bffe837c-31b3-45a0-cce0-0d22d3a42ab8"
      },
      "execution_count": 12,
      "outputs": [
        {
          "output_type": "stream",
          "name": "stdout",
          "text": [
            "[['Jaket' 12.0 150000.0]\n",
            " ['Mukena' 11.0 200000.0]\n",
            " ['Jeans' 14.0 120000.0]\n",
            " ['Koko' 11.0 60000.0]\n",
            " ['Kaos' 15.0 40000.0]\n",
            " ['Batik' 13.0 80000.0]\n",
            " ['Piyama' 12.11111111111111 70000.0]\n",
            " ['Sweater' 12.0 118888.88888888889]\n",
            " ['Jas' 10.0 250000.0]\n",
            " ['Kemeja' 11.0 100000.0]]\n"
          ]
        }
      ]
    },
    {
      "cell_type": "code",
      "source": [
        "from sklearn.compose import ColumnTransformer\n",
        "from sklearn.preprocessing import OneHotEncoder\n",
        "ct = ColumnTransformer(transformers=[(\"encoder\", OneHotEncoder, [0])], remainder = \"passthrough\")\n",
        "x = np.array(ct.fit_transform(x))"
      ],
      "metadata": {
        "id": "Dfp8GQPyMBv8"
      },
      "execution_count": null,
      "outputs": []
    },
    {
      "cell_type": "code",
      "source": [
        "print(x)"
      ],
      "metadata": {
        "colab": {
          "base_uri": "https://localhost:8080/"
        },
        "id": "jrxpRl-XNWcV",
        "outputId": "4b8a488e-77aa-4ad5-f6b2-7867bedfe731"
      },
      "execution_count": 29,
      "outputs": [
        {
          "output_type": "stream",
          "name": "stdout",
          "text": [
            "[['Jaket' 12.0 150000.0]\n",
            " ['Mukena' 11.0 200000.0]\n",
            " ['Jeans' 14.0 120000.0]\n",
            " ['Koko' 11.0 60000.0]\n",
            " ['Kaos' 15.0 40000.0]\n",
            " ['Batik' 13.0 80000.0]\n",
            " ['Piyama' 12.11111111111111 70000.0]\n",
            " ['Sweater' 12.0 118888.88888888889]\n",
            " ['Jas' 10.0 250000.0]\n",
            " ['Kemeja' 11.0 100000.0]]\n"
          ]
        }
      ]
    },
    {
      "cell_type": "code",
      "source": [
        "from sklearn.preprocessing import LabelEncoder\n",
        "le = LabelEncoder()\n",
        "y = le.fit_transform(y)"
      ],
      "metadata": {
        "id": "TPWatTgaPydE"
      },
      "execution_count": 31,
      "outputs": []
    },
    {
      "cell_type": "code",
      "source": [
        "print(y)"
      ],
      "metadata": {
        "colab": {
          "base_uri": "https://localhost:8080/"
        },
        "id": "qtMn9bH5QOGZ",
        "outputId": "5a34c5cb-b0bf-4c33-ebe6-60db499b45bc"
      },
      "execution_count": 32,
      "outputs": [
        {
          "output_type": "stream",
          "name": "stdout",
          "text": [
            "[1 1 1 0 1 1 0 1 0 1]\n"
          ]
        }
      ]
    },
    {
      "cell_type": "code",
      "source": [
        "from sklearn.model_selection import train_test_split\n",
        "x_train, x_test, y_train, y_test = train_test_split(x, y, test_size = 0.2, random_state = 1)"
      ],
      "metadata": {
        "id": "5hh5ED48Qls_"
      },
      "execution_count": 35,
      "outputs": []
    },
    {
      "cell_type": "code",
      "source": [
        "print(x_train)"
      ],
      "metadata": {
        "colab": {
          "base_uri": "https://localhost:8080/"
        },
        "id": "CrP6r0qRRLdS",
        "outputId": "7e866eb3-69d3-4948-8c79-32f97a160b85"
      },
      "execution_count": 36,
      "outputs": [
        {
          "output_type": "stream",
          "name": "stdout",
          "text": [
            "[['Piyama' 12.11111111111111 70000.0]\n",
            " ['Kaos' 15.0 40000.0]\n",
            " ['Jaket' 12.0 150000.0]\n",
            " ['Koko' 11.0 60000.0]\n",
            " ['Mukena' 11.0 200000.0]\n",
            " ['Sweater' 12.0 118888.88888888889]\n",
            " ['Jas' 10.0 250000.0]\n",
            " ['Batik' 13.0 80000.0]]\n"
          ]
        }
      ]
    },
    {
      "cell_type": "code",
      "source": [
        "print(x_test)"
      ],
      "metadata": {
        "colab": {
          "base_uri": "https://localhost:8080/"
        },
        "id": "De-shRZ8R9r7",
        "outputId": "a144d0f6-249c-4601-e0f2-49c639075fae"
      },
      "execution_count": 37,
      "outputs": [
        {
          "output_type": "stream",
          "name": "stdout",
          "text": [
            "[['Jeans' 14.0 120000.0]\n",
            " ['Kemeja' 11.0 100000.0]]\n"
          ]
        }
      ]
    },
    {
      "cell_type": "code",
      "source": [
        "print(y_train)"
      ],
      "metadata": {
        "colab": {
          "base_uri": "https://localhost:8080/"
        },
        "id": "jC7YgnlISDVK",
        "outputId": "4eb054f3-89fc-4941-d227-8f319bfbad04"
      },
      "execution_count": 38,
      "outputs": [
        {
          "output_type": "stream",
          "name": "stdout",
          "text": [
            "[0 1 1 0 1 1 0 1]\n"
          ]
        }
      ]
    },
    {
      "cell_type": "code",
      "source": [
        "print(y_test)"
      ],
      "metadata": {
        "colab": {
          "base_uri": "https://localhost:8080/"
        },
        "id": "SuqmZbj5SHfj",
        "outputId": "c8418a50-daaa-4493-b928-44dabbd2b9a8"
      },
      "execution_count": 39,
      "outputs": [
        {
          "output_type": "stream",
          "name": "stdout",
          "text": [
            "[1 1]\n"
          ]
        }
      ]
    },
    {
      "cell_type": "code",
      "source": [
        "from sklearn.preprocessing import StandardScaler\n",
        "sc = StandardScaler\n",
        "x_train[:, 3:] = sc.fit_transform(x_train[:, 3:])\n",
        "x_test[:, 3:] = sc.transform(x_test[:, 3:])"
      ],
      "metadata": {
        "id": "YD5pVfgiSLaa"
      },
      "execution_count": null,
      "outputs": []
    },
    {
      "cell_type": "code",
      "source": [
        "print(x_train)"
      ],
      "metadata": {
        "colab": {
          "base_uri": "https://localhost:8080/"
        },
        "id": "jTWEO8fVUZt4",
        "outputId": "b6011b0b-104f-4d29-c1a6-b0cb794e6e57"
      },
      "execution_count": 45,
      "outputs": [
        {
          "output_type": "stream",
          "name": "stdout",
          "text": [
            "[['Piyama' 12.11111111111111 70000.0]\n",
            " ['Kaos' 15.0 40000.0]\n",
            " ['Jaket' 12.0 150000.0]\n",
            " ['Koko' 11.0 60000.0]\n",
            " ['Mukena' 11.0 200000.0]\n",
            " ['Sweater' 12.0 118888.88888888889]\n",
            " ['Jas' 10.0 250000.0]\n",
            " ['Batik' 13.0 80000.0]]\n"
          ]
        }
      ]
    },
    {
      "cell_type": "code",
      "source": [
        "print(x_test)"
      ],
      "metadata": {
        "colab": {
          "base_uri": "https://localhost:8080/"
        },
        "id": "BaXH864mUep3",
        "outputId": "c18c9740-04ba-41ab-f351-a604e3ec2b8a"
      },
      "execution_count": 46,
      "outputs": [
        {
          "output_type": "stream",
          "name": "stdout",
          "text": [
            "[['Jeans' 14.0 120000.0]\n",
            " ['Kemeja' 11.0 100000.0]]\n"
          ]
        }
      ]
    }
  ]
}